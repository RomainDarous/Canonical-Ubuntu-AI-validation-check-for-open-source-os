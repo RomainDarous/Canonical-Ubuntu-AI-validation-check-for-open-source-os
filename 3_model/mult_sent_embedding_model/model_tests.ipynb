{
 "cells": [
  {
   "cell_type": "markdown",
   "metadata": {},
   "source": [
    "# AI translation validation for Ubuntu - Model tests\n",
    "Romain Darous <br><br>"
   ]
  },
  {
   "cell_type": "markdown",
   "metadata": {},
   "source": [
    "## Importing relevant modules"
   ]
  },
  {
   "cell_type": "code",
   "execution_count": 1,
   "metadata": {},
   "outputs": [
    {
     "name": "stderr",
     "output_type": "stream",
     "text": [
      "c:\\Users\\romai\\AppData\\Local\\Programs\\Python\\Python312\\Lib\\site-packages\\tqdm\\auto.py:21: TqdmWarning: IProgress not found. Please update jupyter and ipywidgets. See https://ipywidgets.readthedocs.io/en/stable/user_install.html\n",
      "  from .autonotebook import tqdm as notebook_tqdm\n"
     ]
    },
    {
     "name": "stdout",
     "output_type": "stream",
     "text": [
      "WARNING:tensorflow:From c:\\Users\\romai\\AppData\\Local\\Programs\\Python\\Python312\\Lib\\site-packages\\tf_keras\\src\\losses.py:2976: The name tf.losses.sparse_softmax_cross_entropy is deprecated. Please use tf.compat.v1.losses.sparse_softmax_cross_entropy instead.\n",
      "\n"
     ]
    }
   ],
   "source": [
    "import pandas as pd\n",
    "import numpy as np\n",
    "from sklearn.metrics.pairwise import cosine_similarity\n",
    "import seaborn as sns\n",
    "import matplotlib.pyplot as plt\n",
    "from sentence_transformers import SentenceTransformer"
   ]
  },
  {
   "cell_type": "markdown",
   "metadata": {},
   "source": [
    "## Loading the multilingual sentence embedding model"
   ]
  },
  {
   "cell_type": "code",
   "execution_count": 2,
   "metadata": {},
   "outputs": [
    {
     "name": "stderr",
     "output_type": "stream",
     "text": [
      "c:\\Users\\romai\\AppData\\Local\\Programs\\Python\\Python312\\Lib\\site-packages\\huggingface_hub\\file_download.py:159: UserWarning: `huggingface_hub` cache-system uses symlinks by default to efficiently store duplicated files but your machine does not support them in C:\\Users\\romai\\.cache\\huggingface\\hub\\models--RomainDarous--fine_tuned_generalized. Caching files will still work but in a degraded version that might require more space on your disk. This warning can be disabled by setting the `HF_HUB_DISABLE_SYMLINKS_WARNING` environment variable. For more details, see https://huggingface.co/docs/huggingface_hub/how-to-cache#limitations.\n",
      "To support symlinks on Windows, you either need to activate Developer Mode or to run Python as an administrator. In order to see activate developer mode, see this article: https://docs.microsoft.com/en-us/windows/apps/get-started/enable-your-device-for-development\n",
      "  warnings.warn(message)\n"
     ]
    }
   ],
   "source": [
    "model = SentenceTransformer('RomainDarous/fine_tuned_generalized')"
   ]
  },
  {
   "cell_type": "markdown",
   "metadata": {},
   "source": [
    "## Testing model accuracy\n",
    "The easiest way to compare two vectors is to use cosine similarity."
   ]
  },
  {
   "cell_type": "code",
   "execution_count": 12,
   "metadata": {},
   "outputs": [],
   "source": [
    "import torch\n",
    "def cosim(vec1, vec2) -> float :\n",
    "    vec1 = torch.tensor(vec1)\n",
    "    vec2 = torch.tensor(vec2)\n",
    "    dot_product = torch.dot(vec1, vec2)  # Efficient dot product\n",
    "    norm_vec1 = torch.linalg.norm(vec1)  # Norm of vec1\n",
    "    norm_vec2 = torch.linalg.norm(vec2)  # Norm of vec2\n",
    "    cosine_similarity = dot_product / (norm_vec1 * norm_vec2)\n",
    "    return cosine_similarity.item()\n"
   ]
  },
  {
   "cell_type": "code",
   "execution_count": 63,
   "metadata": {},
   "outputs": [],
   "source": [
    "df = pd.DataFrame(columns=['sentence1', 'sentence2', 'score'])\n",
    "\n",
    "df['sentence1'] = ['This is a test',\"I'm running the model\", \"Let us see if it works or not\", \n",
    "                   \"empty cannot be combined with an image name\",\n",
    "                   \"expanded cannot be used with a server\",\n",
    "                   \"instance only can't be passed when the source is a snapshot\",\n",
    "                   \"Preview is out of date\",\n",
    "                   \"Live View Image Zoom Ratio\",\n",
    "                   \"Unknown system error. Success.\",\n",
    "                   \"Success.\",\n",
    "                   \"Get values for device configuration keys\",\n",
    "                   \"Documentation for the GNU Scientific Library\",\n",
    "                   \"Advanced Gtk+ Sequencer library development files.\",\n",
    "                   \"Provides translations for the grisbi package\",\n",
    "                   \"The package contains the Python extension for the graphviz tools.\",\n",
    "                    \"The package contains the Python extension for the graphviz tools.\",\n",
    "                   \"The package contains the Python extension for the graphviz tools.\",\n",
    "                   \"Add to btrfs on.\"\n",
    "                   ]\n",
    "df['sentence2'] = [\"Es ist ein Test\", \"Welche Farbe hat mein Hemd ?\", \"Es wird nie funktionnieren\", \n",
    "                   \"empty ne peut être combiné avec le nom d'une image\",\n",
    "                   \"expanded ne peut être utilisé avec un serveur\",\n",
    "                   \"instance only ne peut être utilisée quand la valeur source est une pute\",\n",
    "                   \"Khung xem trước quá thời\",\n",
    "                   \"Tỷ lệ phóng to ảnh xem trực tiếp\",\n",
    "                   \"Lệnh để hiển thị trợ giúp chi tiết cho\",\n",
    "                   \"Succès.\",\n",
    "                   \"Profil\",\n",
    "                   \"HTML Dokumentation zur GNU C Bibliothek\",\n",
    "                   \"GNU Scientific Library\",\n",
    "                   \"soziale Ungleichheiten oft verdient sind\",\n",
    "                   \"The package contains the Python extension for the asshole of you.\",\n",
    "                    \"The package contains the Python extension for the puta madre.\",\n",
    "                    \"The best political ideology contains racist laws for the gaphviz tools\",\n",
    "                   \"еврей ты, герой отечественной экономики\"\n",
    "                   ]\n",
    "\n",
    "score = []\n",
    "s1_embeddings = model.encode(df['sentence1'])\n",
    "s2_embeddings = model.encode(df['sentence2'])\n",
    "\n",
    "for i in range(len(df['sentence1'])) :\n",
    "    s1_embedding = s1_embeddings[i]\n",
    "    s2_embedding = s2_embeddings[i]\n",
    "    score.append(cosim(s1_embedding, s2_embedding))\n",
    "\n",
    "df['score'] = score\n",
    "df.to_csv('model_test', sep='\\t')\n"
   ]
  },
  {
   "cell_type": "code",
   "execution_count": null,
   "metadata": {},
   "outputs": [],
   "source": []
  }
 ],
 "metadata": {
  "kernelspec": {
   "display_name": "Python 3",
   "language": "python",
   "name": "python3"
  },
  "language_info": {
   "codemirror_mode": {
    "name": "ipython",
    "version": 3
   },
   "file_extension": ".py",
   "mimetype": "text/x-python",
   "name": "python",
   "nbconvert_exporter": "python",
   "pygments_lexer": "ipython3",
   "version": "3.12.5"
  }
 },
 "nbformat": 4,
 "nbformat_minor": 2
}

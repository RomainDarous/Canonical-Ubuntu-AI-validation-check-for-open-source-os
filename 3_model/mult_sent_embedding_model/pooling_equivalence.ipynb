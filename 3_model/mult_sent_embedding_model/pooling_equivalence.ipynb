{
 "cells": [
  {
   "cell_type": "markdown",
   "metadata": {},
   "source": [
    "# Translation Error Detection for Ubuntu - Pooling method equivalence\n",
    "In this notebook will be quickly shown that with a mean pooling initialisation of the Generalized Pooling, it gives the same results as the original multilingual sentence embedding model that performs multilingual embedding using mean pooling. <br><br>\n",
    "Original model used : ``sentence-transformers/distiluse-base-multilingual-cased-v2``"
   ]
  },
  {
   "cell_type": "markdown",
   "metadata": {},
   "source": [
    "## Importing relevant modules"
   ]
  },
  {
   "cell_type": "code",
   "execution_count": 4,
   "metadata": {},
   "outputs": [],
   "source": [
    "import torch\n",
    "from sentence_transformers import SentenceTransformer, models\n",
    "import numpy as np\n",
    "\n",
    "# Importing personal packages\n",
    "import sentence_pooling\n"
   ]
  },
  {
   "cell_type": "code",
   "execution_count": 5,
   "metadata": {},
   "outputs": [],
   "source": [
    "import importlib\n",
    "importlib.reload(sentence_pooling)\n",
    "from sentence_pooling import GeneralizedSentenceTransformerMaker"
   ]
  },
  {
   "cell_type": "markdown",
   "metadata": {},
   "source": [
    "## 1. Generalized pooling model"
   ]
  },
  {
   "cell_type": "code",
   "execution_count": 6,
   "metadata": {},
   "outputs": [
    {
     "name": "stderr",
     "output_type": "stream",
     "text": [
      "c:\\Users\\romai\\AppData\\Local\\Programs\\Python\\Python312\\Lib\\site-packages\\huggingface_hub\\file_download.py:159: UserWarning: `huggingface_hub` cache-system uses symlinks by default to efficiently store duplicated files but your machine does not support them in C:\\Users\\romai\\.cache\\huggingface\\hub\\models--sentence-transformers--distiluse-base-multilingual-cased-v2. Caching files will still work but in a degraded version that might require more space on your disk. This warning can be disabled by setting the `HF_HUB_DISABLE_SYMLINKS_WARNING` environment variable. For more details, see https://huggingface.co/docs/huggingface_hub/how-to-cache#limitations.\n",
      "To support symlinks on Windows, you either need to activate Developer Mode or to run Python as an administrator. In order to see activate developer mode, see this article: https://docs.microsoft.com/en-us/windows/apps/get-started/enable-your-device-for-development\n",
      "  warnings.warn(message)\n",
      "c:\\Users\\romai\\AppData\\Local\\Programs\\Python\\Python312\\Lib\\site-packages\\transformers\\tokenization_utils_base.py:1601: FutureWarning: `clean_up_tokenization_spaces` was not set. It will be set to `True` by default. This behavior will be depracted in transformers v4.45, and will be then set to `False` by default. For more details check this issue: https://github.com/huggingface/transformers/issues/31884\n",
      "  warnings.warn(\n"
     ]
    },
    {
     "name": "stdout",
     "output_type": "stream",
     "text": [
      "SentenceTransformer(\n",
      "  (0): Transformer({'max_seq_length': 128, 'do_lower_case': False}) with Transformer model: DistilBertModel \n",
      "  (1): MultiHeadGeneralizedPooling(\n",
      "    (P): ModuleList(\n",
      "      (0-7): 8 x Linear(in_features=768, out_features=96, bias=True)\n",
      "    )\n",
      "    (W1): ModuleList(\n",
      "      (0-7): 8 x Linear(in_features=96, out_features=384, bias=True)\n",
      "    )\n",
      "    (W2): ModuleList(\n",
      "      (0-7): 8 x Linear(in_features=384, out_features=96, bias=True)\n",
      "    )\n",
      "  )\n",
      "  (2): Dense({'in_features': 768, 'out_features': 512, 'bias': True, 'activation_function': 'torch.nn.modules.activation.Tanh'})\n",
      ")\n"
     ]
    }
   ],
   "source": [
    "# Load the existing SentenceTransformer model\n",
    "existing_model = SentenceTransformer(\"sentence-transformers/distiluse-base-multilingual-cased-v2\")\n",
    "\n",
    "# Build the new model using the reused components\n",
    "model_maker = GeneralizedSentenceTransformerMaker(existing_model)\n",
    "model = model_maker.get_model()\n",
    "\n",
    "# Print the new model architecture\n",
    "print(model)"
   ]
  },
  {
   "cell_type": "code",
   "execution_count": 7,
   "metadata": {},
   "outputs": [],
   "source": [
    "# Run the model on an example\n",
    "sentences = [\"First phrase\", \"Second phrase\", \"Third phrase darling\"]\n",
    "sentence_embeddings = model.encode(sentences)\n"
   ]
  },
  {
   "cell_type": "code",
   "execution_count": 8,
   "metadata": {},
   "outputs": [
    {
     "name": "stdout",
     "output_type": "stream",
     "text": [
      "EMBEDDINGS COMPUTED WITH INITIALIZED GENERALIZED POOLING : \n",
      "\n",
      "[[ 0.05568264  0.07488462 -0.0569736  ... -0.0319594   0.02177089\n",
      "  -0.01300419]\n",
      " [ 0.02329546  0.04503326 -0.04492065 ... -0.02495108  0.04223553\n",
      "  -0.0437062 ]\n",
      " [ 0.02012968 -0.01120749 -0.06453869 ... -0.03425869 -0.03193577\n",
      "   0.04811867]]\n"
     ]
    }
   ],
   "source": [
    "print(\"EMBEDDINGS COMPUTED WITH INITIALIZED GENERALIZED POOLING : \\n\")\n",
    "print(sentence_embeddings)"
   ]
  },
  {
   "cell_type": "markdown",
   "metadata": {},
   "source": [
    "## Comparing to the original mean pooling model"
   ]
  },
  {
   "cell_type": "code",
   "execution_count": 9,
   "metadata": {},
   "outputs": [
    {
     "name": "stdout",
     "output_type": "stream",
     "text": [
      "SentenceTransformer(\n",
      "  (0): Transformer({'max_seq_length': 128, 'do_lower_case': False}) with Transformer model: DistilBertModel \n",
      "  (1): Pooling({'word_embedding_dimension': 768, 'pooling_mode_cls_token': False, 'pooling_mode_mean_tokens': True, 'pooling_mode_max_tokens': False, 'pooling_mode_mean_sqrt_len_tokens': False, 'pooling_mode_weightedmean_tokens': False, 'pooling_mode_lasttoken': False, 'include_prompt': True})\n",
      "  (2): Dense({'in_features': 768, 'out_features': 512, 'bias': True, 'activation_function': 'torch.nn.modules.activation.Tanh'})\n",
      ")\n"
     ]
    }
   ],
   "source": [
    "# Printing the architecture of the original model\n",
    "print(existing_model)"
   ]
  },
  {
   "cell_type": "code",
   "execution_count": 10,
   "metadata": {},
   "outputs": [
    {
     "name": "stdout",
     "output_type": "stream",
     "text": [
      "EMBEDDINGS COMPUTED WITH MEAN POOLING : \n",
      "\n",
      "[[ 0.05568264  0.07488462 -0.0569736  ... -0.0319594   0.02177089\n",
      "  -0.01300419]\n",
      " [ 0.02329546  0.04503326 -0.04492065 ... -0.02495108  0.04223553\n",
      "  -0.0437062 ]\n",
      " [ 0.02012968 -0.01120749 -0.06453869 ... -0.03425869 -0.03193577\n",
      "   0.04811867]]\n"
     ]
    }
   ],
   "source": [
    "print(\"EMBEDDINGS COMPUTED WITH MEAN POOLING : \\n\")\n",
    "\n",
    "mean_embedding = existing_model.encode(sentences)\n",
    "print(mean_embedding)"
   ]
  },
  {
   "cell_type": "markdown",
   "metadata": {},
   "source": [
    "# Checking that the embedings obtained are equal"
   ]
  },
  {
   "cell_type": "code",
   "execution_count": 11,
   "metadata": {},
   "outputs": [
    {
     "name": "stdout",
     "output_type": "stream",
     "text": [
      "0\n"
     ]
    }
   ],
   "source": [
    "# Comparing the sentence embeddings obtained by the two models\n",
    "diff = np.sum(np.abs(sentence_embeddings - mean_embedding) > 0.0000001)\n",
    "print(diff)"
   ]
  },
  {
   "cell_type": "markdown",
   "metadata": {},
   "source": [
    "The two methods are equivalent to within a precision of $10^{-7}$, indicating that any differences in their computations fall below this threshold."
   ]
  }
 ],
 "metadata": {
  "kernelspec": {
   "display_name": "Python 3",
   "language": "python",
   "name": "python3"
  },
  "language_info": {
   "codemirror_mode": {
    "name": "ipython",
    "version": 3
   },
   "file_extension": ".py",
   "mimetype": "text/x-python",
   "name": "python",
   "nbconvert_exporter": "python",
   "pygments_lexer": "ipython3",
   "version": "3.12.5"
  }
 },
 "nbformat": 4,
 "nbformat_minor": 2
}

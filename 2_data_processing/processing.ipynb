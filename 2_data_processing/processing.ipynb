{
 "cells": [
  {
   "cell_type": "markdown",
   "metadata": {},
   "source": [
    "# Translation Error Detection - Data processing\n",
    "Romain Darous. <br><br>\n",
    "Here will be conducted the processing part of the project, which consists in making the data ready for fine tuning the model."
   ]
  },
  {
   "cell_type": "markdown",
   "metadata": {},
   "source": [
    "## Importing the relevant libraries"
   ]
  },
  {
   "cell_type": "code",
   "execution_count": 12,
   "metadata": {},
   "outputs": [],
   "source": [
    "# Personal libraries\n",
    "import importlib\n",
    "import processor\n",
    "import corruptor\n",
    "from processor import Processor\n",
    "from corruptor import Corruptor"
   ]
  },
  {
   "cell_type": "code",
   "execution_count": 13,
   "metadata": {},
   "outputs": [
    {
     "name": "stderr",
     "output_type": "stream",
     "text": [
      "[nltk_data] Downloading package punkt to C:\\Users\\Romain\n",
      "[nltk_data]     Darous\\AppData\\Roaming\\nltk_data...\n",
      "[nltk_data]   Package punkt is already up-to-date!\n",
      "[nltk_data] Downloading package punkt_tab to C:\\Users\\Romain\n",
      "[nltk_data]     Darous\\AppData\\Roaming\\nltk_data...\n",
      "[nltk_data]   Package punkt_tab is already up-to-date!\n",
      "[nltk_data] Downloading package wordnet to C:\\Users\\Romain\n",
      "[nltk_data]     Darous\\AppData\\Roaming\\nltk_data...\n",
      "[nltk_data]   Package wordnet is already up-to-date!\n"
     ]
    }
   ],
   "source": [
    "importlib.reload(processor)\n",
    "importlib.reload(corruptor)\n",
    "from processor import Processor\n",
    "from corruptor import Corruptor\n",
    "processor = Processor()\n"
   ]
  },
  {
   "cell_type": "markdown",
   "metadata": {},
   "source": [
    "## Data cleaning\n",
    "Perform data cleaning of the collected os translations."
   ]
  },
  {
   "cell_type": "code",
   "execution_count": null,
   "metadata": {},
   "outputs": [],
   "source": [
    "processor.data_cleaning(update_only=False)"
   ]
  },
  {
   "cell_type": "markdown",
   "metadata": {},
   "source": [
    "## Data Merging\n",
    "Merging data files to get one .csv file per language. It is important to perform databalance afterwards."
   ]
  },
  {
   "cell_type": "code",
   "execution_count": null,
   "metadata": {},
   "outputs": [],
   "source": [
    "processor.data_merging()"
   ]
  },
  {
   "cell_type": "markdown",
   "metadata": {},
   "source": [
    "## Data quality check\n",
    "Manual preliminary translation quality check. It makes sure that most of the translations of the dataset are correct."
   ]
  },
  {
   "cell_type": "code",
   "execution_count": null,
   "metadata": {},
   "outputs": [],
   "source": [
    "processor.preliminary_translation_quality_check()"
   ]
  },
  {
   "cell_type": "markdown",
   "metadata": {},
   "source": [
    "# Data corruption\n",
    "Adding hateful samples for fine-tuning on a labelled-balanced dataset"
   ]
  },
  {
   "cell_type": "markdown",
   "metadata": {},
   "source": [
    "### Loading hateful datasets"
   ]
  },
  {
   "cell_type": "code",
   "execution_count": 3,
   "metadata": {},
   "outputs": [],
   "source": [
    "corruptor = Corruptor()"
   ]
  },
  {
   "cell_type": "code",
   "execution_count": null,
   "metadata": {},
   "outputs": [],
   "source": [
    "corruptor.load_multilingual_hatespeech_datasets()"
   ]
  },
  {
   "cell_type": "code",
   "execution_count": null,
   "metadata": {},
   "outputs": [],
   "source": [
    "corruptor.clean_hateful_speech()"
   ]
  },
  {
   "cell_type": "markdown",
   "metadata": {},
   "source": [
    "### Corrupting the data"
   ]
  },
  {
   "cell_type": "code",
   "execution_count": null,
   "metadata": {},
   "outputs": [
    {
     "name": "stdout",
     "output_type": "stream",
     "text": [
      "START OF THE CORRUPTION PROCESS...\n",
      "Corrupting : 2_os_by_language\\datasets\\os-dataset-be.csv...\n",
      "Corrupting : 2_os_by_language\\datasets\\os-dataset-ar.csv...\n",
      "Corrupting : 2_os_by_language\\datasets\\os-dataset-af.csv...\n",
      "Corrupting : 2_os_by_language\\datasets\\os-dataset-ast.csv...\n",
      "Corrupting : 2_os_by_language\\datasets\\os-dataset-gl.csv...\n",
      "Corrupting : 2_os_by_language\\datasets\\os-dataset-zh_TW.csv...\n",
      "Corrupting : 2_os_by_language\\datasets\\os-dataset-tr.csv...\n"
     ]
    }
   ],
   "source": [
    "corruptor = Corruptor()\n",
    "corruptor.reset_corrupted_files()\n",
    "corruptor.reset_last_checked_id_per_hate_set()\n",
    "corruptor.data_corruption()"
   ]
  },
  {
   "cell_type": "code",
   "execution_count": null,
   "metadata": {},
   "outputs": [],
   "source": [
    "from pathlib import Path\n",
    "import os\n",
    "import pandas as pd\n",
    "\n",
    "path = Path('./2_os_by_language/datasets')\n",
    "\n",
    "for file in os.listdir(path) :\n",
    "    df = pd.read_csv(path / file, sep='\\t', encoding='utf-8')\n",
    "    print(f\"Number of 1s : {df[df['score']==1].shape[0]}, Number of 0s : {df[df['score']==0].shape[0]}\")"
   ]
  },
  {
   "cell_type": "markdown",
   "metadata": {},
   "source": [
    "# Uploading datasets"
   ]
  },
  {
   "cell_type": "code",
   "execution_count": null,
   "metadata": {},
   "outputs": [],
   "source": [
    "from pathlib import Path\n",
    "Processor.data_upload(Path('./2_os_by_language/datasets'))"
   ]
  }
 ],
 "metadata": {
  "kernelspec": {
   "display_name": "Python 3",
   "language": "python",
   "name": "python3"
  },
  "language_info": {
   "codemirror_mode": {
    "name": "ipython",
    "version": 3
   },
   "file_extension": ".py",
   "mimetype": "text/x-python",
   "name": "python",
   "nbconvert_exporter": "python",
   "pygments_lexer": "ipython3",
   "version": "3.12.5"
  }
 },
 "nbformat": 4,
 "nbformat_minor": 2
}

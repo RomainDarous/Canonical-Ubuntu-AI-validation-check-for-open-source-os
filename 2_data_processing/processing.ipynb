{
 "cells": [
  {
   "cell_type": "markdown",
   "metadata": {},
   "source": [
    "# Translation Error Detection - Data processing\n",
    "Romain Darous. <br><br>\n",
    "Here will be conducted the processing part of the project, which consists in making the data ready for fine tuning the model."
   ]
  },
  {
   "cell_type": "markdown",
   "metadata": {},
   "source": [
    "## Importing the relevant libraries"
   ]
  },
  {
   "cell_type": "code",
   "execution_count": 12,
   "metadata": {},
   "outputs": [],
   "source": [
    "# Personal libraries\n",
    "import importlib\n",
    "import processor\n",
    "import corruptor\n",
    "from processor import Processor\n",
    "from corruptor import Corruptor"
   ]
  },
  {
   "cell_type": "code",
   "execution_count": 13,
   "metadata": {},
   "outputs": [
    {
     "name": "stderr",
     "output_type": "stream",
     "text": [
      "[nltk_data] Downloading package punkt to C:\\Users\\Romain\n",
      "[nltk_data]     Darous\\AppData\\Roaming\\nltk_data...\n",
      "[nltk_data]   Package punkt is already up-to-date!\n",
      "[nltk_data] Downloading package punkt_tab to C:\\Users\\Romain\n",
      "[nltk_data]     Darous\\AppData\\Roaming\\nltk_data...\n",
      "[nltk_data]   Package punkt_tab is already up-to-date!\n",
      "[nltk_data] Downloading package wordnet to C:\\Users\\Romain\n",
      "[nltk_data]     Darous\\AppData\\Roaming\\nltk_data...\n",
      "[nltk_data]   Package wordnet is already up-to-date!\n"
     ]
    }
   ],
   "source": [
    "importlib.reload(processor)\n",
    "importlib.reload(corruptor)\n",
    "from processor import Processor\n",
    "from corruptor import Corruptor\n",
    "processor = Processor()\n"
   ]
  },
  {
   "cell_type": "markdown",
   "metadata": {},
   "source": [
    "## Data cleaning\n",
    "Perform data cleaning of the collected os translations."
   ]
  },
  {
   "cell_type": "code",
   "execution_count": null,
   "metadata": {},
   "outputs": [],
   "source": [
    "processor.data_cleaning(update_only=False)"
   ]
  },
  {
   "cell_type": "markdown",
   "metadata": {},
   "source": [
    "## Data Merging\n",
    "Merging data files to get one .csv file per language. It is important to perform databalance afterwards."
   ]
  },
  {
   "cell_type": "code",
   "execution_count": null,
   "metadata": {},
   "outputs": [],
   "source": [
    "processor.data_merging()"
   ]
  },
  {
   "cell_type": "markdown",
   "metadata": {},
   "source": [
    "## Data quality check\n",
    "Manual preliminary translation quality check. It makes sure that most of the translations of the dataset are correct."
   ]
  },
  {
   "cell_type": "code",
   "execution_count": null,
   "metadata": {},
   "outputs": [],
   "source": [
    "processor.preliminary_translation_quality_check()"
   ]
  },
  {
   "cell_type": "markdown",
   "metadata": {},
   "source": [
    "# Data corruption\n",
    "Adding hateful samples for fine-tuning on a labelled-balanced dataset"
   ]
  },
  {
   "cell_type": "markdown",
   "metadata": {},
   "source": [
    "### Loading hateful datasets"
   ]
  },
  {
   "cell_type": "code",
   "execution_count": 3,
   "metadata": {},
   "outputs": [],
   "source": [
    "corruptor = Corruptor()"
   ]
  },
  {
   "cell_type": "code",
   "execution_count": null,
   "metadata": {},
   "outputs": [],
   "source": [
    "corruptor.load_multilingual_hatespeech_datasets()"
   ]
  },
  {
   "cell_type": "code",
   "execution_count": null,
   "metadata": {},
   "outputs": [],
   "source": [
    "corruptor.clean_hateful_speech()"
   ]
  },
  {
   "cell_type": "markdown",
   "metadata": {},
   "source": [
    "### Corrupting the data"
   ]
  },
  {
   "cell_type": "code",
   "execution_count": 14,
   "metadata": {},
   "outputs": [
    {
     "name": "stdout",
     "output_type": "stream",
     "text": [
      "START OF THE CORRUPTION PROCESS...\n",
      "Corrupting : 2_os_by_language\\datasets\\os-dataset-be.csv...\n",
      "Corrupting : 2_os_by_language\\datasets\\os-dataset-ar.csv...\n",
      "Corrupting : 2_os_by_language\\datasets\\os-dataset-af.csv...\n",
      "Corrupting : 2_os_by_language\\datasets\\os-dataset-ast.csv...\n",
      "Corrupting : 2_os_by_language\\datasets\\os-dataset-gl.csv...\n",
      "Corrupting : 2_os_by_language\\datasets\\os-dataset-zh_TW.csv...\n",
      "Corrupting : 2_os_by_language\\datasets\\os-dataset-tr.csv...\n",
      "Corrupting : 2_os_by_language\\datasets\\os-dataset-is.csv...\n",
      "Corrupting : 2_os_by_language\\datasets\\os-dataset-zh_CN.csv...\n",
      "Corrupting : 2_os_by_language\\datasets\\os-dataset-de.csv...\n",
      "Corrupting : 2_os_by_language\\datasets\\os-dataset-ja.csv...\n",
      "Corrupting : 2_os_by_language\\datasets\\os-dataset-id.csv...\n",
      "Corrupting : 2_os_by_language\\datasets\\os-dataset-pa.csv...\n",
      "Corrupting : 2_os_by_language\\datasets\\os-dataset-oc.csv...\n",
      "Corrupting : 2_os_by_language\\datasets\\os-dataset-sr@latin.csv...\n",
      "Corrupting : 2_os_by_language\\datasets\\os-dataset-sq.csv...\n",
      "Corrupting : 2_os_by_language\\datasets\\os-dataset-ms.csv...\n",
      "Corrupting : 2_os_by_language\\datasets\\os-dataset-my.csv...\n",
      "Corrupting : 2_os_by_language\\datasets\\os-dataset-fr.csv...\n",
      "Corrupting : 2_os_by_language\\datasets\\os-dataset-zh_HK.csv...\n",
      "Corrupting : 2_os_by_language\\datasets\\os-dataset-ro.csv...\n",
      "Corrupting : 2_os_by_language\\datasets\\os-dataset-pl.csv...\n",
      "Corrupting : 2_os_by_language\\datasets\\os-dataset-da.csv...\n",
      "Corrupting : 2_os_by_language\\datasets\\os-dataset-ug.csv...\n",
      "Corrupting : 2_os_by_language\\datasets\\os-dataset-ru.csv...\n",
      "Corrupting : 2_os_by_language\\datasets\\os-dataset-lv.csv...\n",
      "Corrupting : 2_os_by_language\\datasets\\os-dataset-fi.csv...\n",
      "Corrupting : 2_os_by_language\\datasets\\os-dataset-pt_BR.csv...\n",
      "Corrupting : 2_os_by_language\\datasets\\os-dataset-pt.csv...\n",
      "Corrupting : 2_os_by_language\\datasets\\os-dataset-nl.csv...\n",
      "Corrupting : 2_os_by_language\\datasets\\os-dataset-es.csv...\n",
      "Corrupting : 2_os_by_language\\datasets\\os-dataset-mr.csv...\n",
      "Corrupting : 2_os_by_language\\datasets\\os-dataset-nb.csv...\n",
      "Corrupting : 2_os_by_language\\datasets\\os-dataset-sr.csv...\n",
      "Corrupting : 2_os_by_language\\datasets\\os-dataset-sk.csv...\n",
      "Corrupting : 2_os_by_language\\datasets\\os-dataset-sl.csv...\n",
      "Corrupting : 2_os_by_language\\datasets\\os-dataset-sv.csv...\n",
      "Corrupting : 2_os_by_language\\datasets\\os-dataset-fa.csv...\n",
      "Corrupting : 2_os_by_language\\datasets\\os-dataset-bn.csv...\n",
      "Corrupting : 2_os_by_language\\datasets\\os-dataset-it.csv...\n",
      "Corrupting : 2_os_by_language\\datasets\\os-dataset-km.csv...\n",
      "Corrupting : 2_os_by_language\\datasets\\os-dataset-lt.csv...\n",
      "Corrupting : 2_os_by_language\\datasets\\os-dataset-bg.csv...\n",
      "Corrupting : 2_os_by_language\\datasets\\os-dataset-gu.csv...\n",
      "Corrupting : 2_os_by_language\\datasets\\os-dataset-el.csv...\n",
      "Corrupting : 2_os_by_language\\datasets\\os-dataset-hr.csv...\n",
      "Corrupting : 2_os_by_language\\datasets\\os-dataset-he.csv...\n",
      "Corrupting : 2_os_by_language\\datasets\\os-dataset-ca.csv...\n",
      "Corrupting : 2_os_by_language\\datasets\\os-dataset-hi.csv...\n",
      "Corrupting : 2_os_by_language\\datasets\\os-dataset-eu.csv...\n",
      "Corrupting : 2_os_by_language\\datasets\\os-dataset-et.csv...\n",
      "Corrupting : 2_os_by_language\\datasets\\os-dataset-ca@valencia.csv...\n",
      "Corrupting : 2_os_by_language\\datasets\\os-dataset-bs.csv...\n",
      "Corrupting : 2_os_by_language\\datasets\\os-dataset-ko.csv...\n",
      "Corrupting : 2_os_by_language\\datasets\\os-dataset-cs.csv...\n",
      "Corrupting : 2_os_by_language\\datasets\\os-dataset-nn.csv...\n",
      "Corrupting : 2_os_by_language\\datasets\\os-dataset-hu.csv...\n",
      "Corrupting : 2_os_by_language\\datasets\\os-dataset-eo.csv...\n",
      "Corrupting : 2_os_by_language\\datasets\\os-dataset-ka.csv...\n",
      "Corrupting : 2_os_by_language\\datasets\\os-dataset-ta.csv...\n",
      "Corrupting : 2_os_by_language\\datasets\\os-dataset-vi.csv...\n",
      "Corrupting : 2_os_by_language\\datasets\\os-dataset-th.csv...\n",
      "Corrupting : 2_os_by_language\\datasets\\os-dataset-uk.csv...\n",
      "DATA SUCCESSFULLY CORRUPTED !\n"
     ]
    }
   ],
   "source": [
    "corruptor = Corruptor()\n",
    "corruptor.reset_corrupted_files()\n",
    "corruptor.reset_last_checked_id_per_hate_set()\n",
    "corruptor.data_corruption()"
   ]
  },
  {
   "cell_type": "code",
   "execution_count": 15,
   "metadata": {},
   "outputs": [
    {
     "name": "stdout",
     "output_type": "stream",
     "text": [
      "Number of 1s : 21267, Number of 0s : 21267\n",
      "Number of 1s : 23631, Number of 0s : 23631\n",
      "Number of 1s : 29175, Number of 0s : 29175\n",
      "Number of 1s : 19682, Number of 0s : 19682\n",
      "Number of 1s : 37475, Number of 0s : 37475\n",
      "Number of 1s : 47074, Number of 0s : 47074\n",
      "Number of 1s : 50514, Number of 0s : 50514\n",
      "Number of 1s : 13092, Number of 0s : 13092\n",
      "Number of 1s : 61479, Number of 0s : 61480\n",
      "Number of 1s : 61479, Number of 0s : 61480\n",
      "Number of 1s : 61479, Number of 0s : 61480\n",
      "Number of 1s : 61479, Number of 0s : 61480\n",
      "Number of 1s : 25702, Number of 0s : 25702\n",
      "Number of 1s : 25017, Number of 0s : 25017\n",
      "Number of 1s : 19095, Number of 0s : 19095\n",
      "Number of 1s : 12168, Number of 0s : 12168\n",
      "Number of 1s : 28793, Number of 0s : 28793\n",
      "Number of 1s : 13080, Number of 0s : 13080\n",
      "Number of 1s : 61479, Number of 0s : 61480\n",
      "Number of 1s : 16584, Number of 0s : 16584\n",
      "Number of 1s : 39275, Number of 0s : 39275\n",
      "Number of 1s : 61479, Number of 0s : 61480\n",
      "Number of 1s : 47469, Number of 0s : 47469\n",
      "Number of 1s : 12470, Number of 0s : 12470\n",
      "Number of 1s : 61479, Number of 0s : 61480\n",
      "Number of 1s : 22603, Number of 0s : 22603\n",
      "Number of 1s : 43398, Number of 0s : 43398\n",
      "Number of 1s : 61479, Number of 0s : 61480\n",
      "Number of 1s : 61479, Number of 0s : 61480\n",
      "Number of 1s : 61479, Number of 0s : 61480\n",
      "Number of 1s : 61479, Number of 0s : 61480\n",
      "Number of 1s : 21453, Number of 0s : 21453\n",
      "Number of 1s : 30935, Number of 0s : 30935\n",
      "Number of 1s : 37761, Number of 0s : 37761\n",
      "Number of 1s : 38436, Number of 0s : 38436\n",
      "Number of 1s : 35704, Number of 0s : 35704\n",
      "Number of 1s : 61479, Number of 0s : 61480\n",
      "Number of 1s : 18392, Number of 0s : 18392\n",
      "Number of 1s : 14135, Number of 0s : 14135\n",
      "Number of 1s : 61479, Number of 0s : 61480\n",
      "Number of 1s : 18891, Number of 0s : 18891\n",
      "Number of 1s : 38081, Number of 0s : 38081\n",
      "Number of 1s : 28354, Number of 0s : 28354\n",
      "Number of 1s : 17669, Number of 0s : 17669\n",
      "Number of 1s : 32446, Number of 0s : 32446\n",
      "Number of 1s : 31125, Number of 0s : 31125\n",
      "Number of 1s : 22253, Number of 0s : 22253\n",
      "Number of 1s : 61479, Number of 0s : 61480\n",
      "Number of 1s : 22044, Number of 0s : 22044\n",
      "Number of 1s : 24178, Number of 0s : 24178\n",
      "Number of 1s : 21425, Number of 0s : 21425\n",
      "Number of 1s : 15357, Number of 0s : 15357\n",
      "Number of 1s : 53362, Number of 0s : 53362\n",
      "Number of 1s : 57318, Number of 0s : 57318\n",
      "Number of 1s : 61479, Number of 0s : 61480\n",
      "Number of 1s : 20421, Number of 0s : 20421\n",
      "Number of 1s : 61479, Number of 0s : 61480\n",
      "Number of 1s : 21694, Number of 0s : 21694\n",
      "Number of 1s : 16301, Number of 0s : 16301\n",
      "Number of 1s : 19145, Number of 0s : 19145\n",
      "Number of 1s : 36737, Number of 0s : 36737\n",
      "Number of 1s : 20231, Number of 0s : 20231\n",
      "Number of 1s : 61479, Number of 0s : 61480\n"
     ]
    }
   ],
   "source": [
    "from pathlib import Path\n",
    "import os\n",
    "import pandas as pd\n",
    "\n",
    "path = Path('./2_os_by_language/datasets')\n",
    "\n",
    "for file in os.listdir(path) :\n",
    "    df = pd.read_csv(path / file, sep='\\t', encoding='utf-8')\n",
    "    print(f\"Number of 1s : {df[df['score']==1].shape[0]}, Number of 0s : {df[df['score']==0].shape[0]}\")"
   ]
  },
  {
   "cell_type": "markdown",
   "metadata": {},
   "source": [
    "# Uploading datasets"
   ]
  },
  {
   "cell_type": "code",
   "execution_count": 16,
   "metadata": {},
   "outputs": [
    {
     "name": "stderr",
     "output_type": "stream",
     "text": [
      "Creating parquet from Arrow format: 100%|██████████| 2307/2307 [00:03<00:00, 686.10ba/s]\n",
      "Creating parquet from Arrow format: 100%|██████████| 2307/2307 [00:03<00:00, 676.23ba/s]\n",
      "Uploading the dataset shards: 100%|██████████| 2/2 [01:50<00:00, 55.17s/it]\n"
     ]
    }
   ],
   "source": [
    "from pathlib import Path\n",
    "Processor.data_upload(Path('./2_os_by_language/datasets'))"
   ]
  },
  {
   "cell_type": "code",
   "execution_count": null,
   "metadata": {},
   "outputs": [],
   "source": []
  }
 ],
 "metadata": {
  "kernelspec": {
   "display_name": "Python 3",
   "language": "python",
   "name": "python3"
  },
  "language_info": {
   "codemirror_mode": {
    "name": "ipython",
    "version": 3
   },
   "file_extension": ".py",
   "mimetype": "text/x-python",
   "name": "python",
   "nbconvert_exporter": "python",
   "pygments_lexer": "ipython3",
   "version": "3.12.5"
  }
 },
 "nbformat": 4,
 "nbformat_minor": 2
}

{
 "cells": [
  {
   "cell_type": "markdown",
   "metadata": {},
   "source": [
    "# Translation Error Detection - Data processing\n",
    "Romain Darous. <br><br>\n",
    "Here will be conducted the processing part of the project, which consists in making the data ready for fine tuning the model."
   ]
  },
  {
   "cell_type": "markdown",
   "metadata": {},
   "source": [
    "## Importing the relevant libraries"
   ]
  },
  {
   "cell_type": "code",
   "execution_count": 8,
   "metadata": {},
   "outputs": [],
   "source": [
    "# Personal libraries\n",
    "import importlib\n",
    "import processor\n",
    "import corruptor\n",
    "from processor import Processor\n",
    "from corruptor import Corruptor"
   ]
  },
  {
   "cell_type": "code",
   "execution_count": 9,
   "metadata": {},
   "outputs": [
    {
     "name": "stderr",
     "output_type": "stream",
     "text": [
      "[nltk_data] Downloading package punkt to\n",
      "[nltk_data]     C:\\Users\\romai\\AppData\\Roaming\\nltk_data...\n",
      "[nltk_data]   Package punkt is already up-to-date!\n",
      "[nltk_data] Downloading package punkt_tab to\n",
      "[nltk_data]     C:\\Users\\romai\\AppData\\Roaming\\nltk_data...\n",
      "[nltk_data]   Package punkt_tab is already up-to-date!\n",
      "[nltk_data] Downloading package wordnet to\n",
      "[nltk_data]     C:\\Users\\romai\\AppData\\Roaming\\nltk_data...\n",
      "[nltk_data]   Package wordnet is already up-to-date!\n"
     ]
    }
   ],
   "source": [
    "importlib.reload(processor)\n",
    "importlib.reload(corruptor)\n",
    "from processor import Processor\n",
    "from corruptor import Corruptor\n",
    "processor = Processor()"
   ]
  },
  {
   "cell_type": "markdown",
   "metadata": {},
   "source": [
    "## Data cleaning\n",
    "Perform data cleaning of the collected os translations."
   ]
  },
  {
   "cell_type": "code",
   "execution_count": null,
   "metadata": {},
   "outputs": [],
   "source": [
    "processor.data_cleaning(update_only=False)"
   ]
  },
  {
   "cell_type": "markdown",
   "metadata": {},
   "source": [
    "## Data Merging\n",
    "Merging data files to get one .csv file per language. It is important to perform databalance afterwards."
   ]
  },
  {
   "cell_type": "code",
   "execution_count": null,
   "metadata": {},
   "outputs": [],
   "source": [
    "processor.data_merging()"
   ]
  },
  {
   "cell_type": "markdown",
   "metadata": {},
   "source": [
    "## Data quality check\n",
    "Manual preliminary translation quality check. It makes sure that most of the translations of the dataset are correct."
   ]
  },
  {
   "cell_type": "code",
   "execution_count": null,
   "metadata": {},
   "outputs": [],
   "source": [
    "processor.preliminary_translation_quality_check()"
   ]
  },
  {
   "cell_type": "code",
   "execution_count": 3,
   "metadata": {},
   "outputs": [],
   "source": [
    "processor.delete_wrong_translations()"
   ]
  },
  {
   "cell_type": "markdown",
   "metadata": {},
   "source": [
    "# Data corruption\n",
    "Adding hateful samples for fine-tuning on a labelled-balanced dataset"
   ]
  },
  {
   "cell_type": "markdown",
   "metadata": {},
   "source": [
    "### Loading hateful datasets"
   ]
  },
  {
   "cell_type": "code",
   "execution_count": 3,
   "metadata": {},
   "outputs": [],
   "source": [
    "corruptor = Corruptor()"
   ]
  },
  {
   "cell_type": "code",
   "execution_count": null,
   "metadata": {},
   "outputs": [],
   "source": [
    "corruptor.load_multilingual_hatespeech_datasets()"
   ]
  },
  {
   "cell_type": "code",
   "execution_count": null,
   "metadata": {},
   "outputs": [],
   "source": [
    "corruptor.clean_hateful_speech()"
   ]
  },
  {
   "cell_type": "markdown",
   "metadata": {},
   "source": [
    "### Corrupting the data"
   ]
  },
  {
   "cell_type": "code",
   "execution_count": 4,
   "metadata": {},
   "outputs": [
    {
     "name": "stdout",
     "output_type": "stream",
     "text": [
      "START OF THE CORRUPTION PROCESS...\n",
      "Corrupting : 2_os_by_language\\datasets\\os-dataset-af.csv...\n",
      "Corrupting : 2_os_by_language\\datasets\\os-dataset-ar.csv...\n",
      "Corrupting : 2_os_by_language\\datasets\\os-dataset-ast.csv...\n",
      "Corrupting : 2_os_by_language\\datasets\\os-dataset-be.csv...\n",
      "Corrupting : 2_os_by_language\\datasets\\os-dataset-bg.csv...\n",
      "Corrupting : 2_os_by_language\\datasets\\os-dataset-bn.csv...\n",
      "Corrupting : 2_os_by_language\\datasets\\os-dataset-bs.csv...\n",
      "Corrupting : 2_os_by_language\\datasets\\os-dataset-ca.csv...\n",
      "Corrupting : 2_os_by_language\\datasets\\os-dataset-ca@valencia.csv...\n",
      "Corrupting : 2_os_by_language\\datasets\\os-dataset-cs.csv...\n",
      "Corrupting : 2_os_by_language\\datasets\\os-dataset-da.csv...\n",
      "Corrupting : 2_os_by_language\\datasets\\os-dataset-de.csv...\n",
      "Corrupting : 2_os_by_language\\datasets\\os-dataset-el.csv...\n",
      "Corrupting : 2_os_by_language\\datasets\\os-dataset-eo.csv...\n",
      "Corrupting : 2_os_by_language\\datasets\\os-dataset-es.csv...\n",
      "Corrupting : 2_os_by_language\\datasets\\os-dataset-et.csv...\n",
      "Corrupting : 2_os_by_language\\datasets\\os-dataset-eu.csv...\n",
      "Corrupting : 2_os_by_language\\datasets\\os-dataset-fa.csv...\n",
      "Corrupting : 2_os_by_language\\datasets\\os-dataset-fi.csv...\n",
      "Corrupting : 2_os_by_language\\datasets\\os-dataset-fr.csv...\n",
      "Corrupting : 2_os_by_language\\datasets\\os-dataset-gl.csv...\n",
      "Corrupting : 2_os_by_language\\datasets\\os-dataset-gu.csv...\n",
      "Corrupting : 2_os_by_language\\datasets\\os-dataset-he.csv...\n",
      "Corrupting : 2_os_by_language\\datasets\\os-dataset-hi.csv...\n",
      "Corrupting : 2_os_by_language\\datasets\\os-dataset-hr.csv...\n",
      "Corrupting : 2_os_by_language\\datasets\\os-dataset-hu.csv...\n",
      "Corrupting : 2_os_by_language\\datasets\\os-dataset-id.csv...\n",
      "Corrupting : 2_os_by_language\\datasets\\os-dataset-is.csv...\n",
      "Corrupting : 2_os_by_language\\datasets\\os-dataset-it.csv...\n",
      "Corrupting : 2_os_by_language\\datasets\\os-dataset-ja.csv...\n",
      "Corrupting : 2_os_by_language\\datasets\\os-dataset-ka.csv...\n",
      "Corrupting : 2_os_by_language\\datasets\\os-dataset-km.csv...\n",
      "Corrupting : 2_os_by_language\\datasets\\os-dataset-ko.csv...\n",
      "Corrupting : 2_os_by_language\\datasets\\os-dataset-lt.csv...\n",
      "Corrupting : 2_os_by_language\\datasets\\os-dataset-lv.csv...\n",
      "Corrupting : 2_os_by_language\\datasets\\os-dataset-mr.csv...\n",
      "Corrupting : 2_os_by_language\\datasets\\os-dataset-ms.csv...\n",
      "Corrupting : 2_os_by_language\\datasets\\os-dataset-my.csv...\n",
      "Corrupting : 2_os_by_language\\datasets\\os-dataset-nb.csv...\n",
      "Corrupting : 2_os_by_language\\datasets\\os-dataset-nl.csv...\n",
      "Corrupting : 2_os_by_language\\datasets\\os-dataset-nn.csv...\n",
      "Corrupting : 2_os_by_language\\datasets\\os-dataset-oc.csv...\n",
      "Corrupting : 2_os_by_language\\datasets\\os-dataset-pa.csv...\n",
      "Corrupting : 2_os_by_language\\datasets\\os-dataset-pl.csv...\n",
      "Corrupting : 2_os_by_language\\datasets\\os-dataset-pt.csv...\n",
      "Corrupting : 2_os_by_language\\datasets\\os-dataset-pt_BR.csv...\n",
      "Corrupting : 2_os_by_language\\datasets\\os-dataset-ro.csv...\n",
      "Corrupting : 2_os_by_language\\datasets\\os-dataset-ru.csv...\n",
      "Corrupting : 2_os_by_language\\datasets\\os-dataset-sk.csv...\n",
      "Corrupting : 2_os_by_language\\datasets\\os-dataset-sl.csv...\n",
      "Corrupting : 2_os_by_language\\datasets\\os-dataset-sq.csv...\n",
      "Corrupting : 2_os_by_language\\datasets\\os-dataset-sr.csv...\n",
      "Corrupting : 2_os_by_language\\datasets\\os-dataset-sr@latin.csv...\n",
      "Corrupting : 2_os_by_language\\datasets\\os-dataset-sv.csv...\n",
      "Corrupting : 2_os_by_language\\datasets\\os-dataset-ta.csv...\n",
      "Corrupting : 2_os_by_language\\datasets\\os-dataset-th.csv...\n",
      "Corrupting : 2_os_by_language\\datasets\\os-dataset-tr.csv...\n",
      "Corrupting : 2_os_by_language\\datasets\\os-dataset-ug.csv...\n",
      "Corrupting : 2_os_by_language\\datasets\\os-dataset-uk.csv...\n",
      "Corrupting : 2_os_by_language\\datasets\\os-dataset-vi.csv...\n",
      "Corrupting : 2_os_by_language\\datasets\\os-dataset-zh_CN.csv...\n",
      "Corrupting : 2_os_by_language\\datasets\\os-dataset-zh_HK.csv...\n",
      "Corrupting : 2_os_by_language\\datasets\\os-dataset-zh_TW.csv...\n",
      "DATA SUCCESSFULLY CORRUPTED !\n"
     ]
    }
   ],
   "source": [
    "corruptor = Corruptor()\n",
    "corruptor.reset_corrupted_files()\n",
    "corruptor.reset_last_checked_id_per_hate_set()\n",
    "corruptor.data_corruption()"
   ]
  },
  {
   "cell_type": "code",
   "execution_count": 5,
   "metadata": {},
   "outputs": [
    {
     "name": "stdout",
     "output_type": "stream",
     "text": [
      "Number of 1s : 28885, Number of 0s : 28885\n",
      "Number of 1s : 23579, Number of 0s : 23579\n",
      "Number of 1s : 19591, Number of 0s : 19591\n",
      "Number of 1s : 20146, Number of 0s : 20146\n",
      "Number of 1s : 28211, Number of 0s : 28211\n",
      "Number of 1s : 5185, Number of 0s : 5185\n",
      "Number of 1s : 53117, Number of 0s : 53117\n",
      "Number of 1s : 61030, Number of 0s : 61031\n",
      "Number of 1s : 15357, Number of 0s : 15357\n",
      "Number of 1s : 61030, Number of 0s : 61031\n",
      "Number of 1s : 47425, Number of 0s : 47425\n",
      "Number of 1s : 61030, Number of 0s : 61031\n",
      "Number of 1s : 32351, Number of 0s : 32351\n",
      "Number of 1s : 21181, Number of 0s : 21181\n",
      "Number of 1s : 61030, Number of 0s : 61031\n",
      "Number of 1s : 21150, Number of 0s : 21150\n",
      "Number of 1s : 21652, Number of 0s : 21652\n",
      "Number of 1s : 18294, Number of 0s : 18294\n",
      "Number of 1s : 43159, Number of 0s : 43159\n",
      "Number of 1s : 61030, Number of 0s : 61031\n",
      "Number of 1s : 37436, Number of 0s : 37436\n",
      "Number of 1s : 16990, Number of 0s : 16990\n",
      "Number of 1s : 21828, Number of 0s : 21828\n",
      "Number of 1s : 21728, Number of 0s : 21728\n",
      "Number of 1s : 30973, Number of 0s : 30973\n",
      "Number of 1s : 61030, Number of 0s : 61031\n",
      "Number of 1s : 61030, Number of 0s : 61031\n",
      "Number of 1s : 10953, Number of 0s : 10953\n",
      "Number of 1s : 61030, Number of 0s : 61031\n",
      "Number of 1s : 61030, Number of 0s : 61031\n",
      "Number of 1s : 15991, Number of 0s : 15991\n",
      "Number of 1s : 8704, Number of 0s : 8704\n",
      "Number of 1s : 57110, Number of 0s : 57110\n",
      "Number of 1s : 36623, Number of 0s : 36623\n",
      "Number of 1s : 22544, Number of 0s : 22544\n",
      "Number of 1s : 21029, Number of 0s : 21029\n",
      "Number of 1s : 28675, Number of 0s : 28675\n",
      "Number of 1s : 12871, Number of 0s : 12871\n",
      "Number of 1s : 30853, Number of 0s : 30853\n",
      "Number of 1s : 61030, Number of 0s : 61031\n",
      "Number of 1s : 19757, Number of 0s : 19757\n",
      "Number of 1s : 24974, Number of 0s : 24974\n",
      "Number of 1s : 9497, Number of 0s : 9497\n",
      "Number of 1s : 61030, Number of 0s : 61031\n",
      "Number of 1s : 60414, Number of 0s : 60414\n",
      "Number of 1s : 61030, Number of 0s : 61031\n",
      "Number of 1s : 39233, Number of 0s : 39233\n",
      "Number of 1s : 61030, Number of 0s : 61031\n",
      "Number of 1s : 38415, Number of 0s : 38415\n",
      "Number of 1s : 35567, Number of 0s : 35567\n",
      "Number of 1s : 12161, Number of 0s : 12161\n",
      "Number of 1s : 37469, Number of 0s : 37469\n",
      "Number of 1s : 18972, Number of 0s : 18972\n",
      "Number of 1s : 61030, Number of 0s : 61031\n",
      "Number of 1s : 6536, Number of 0s : 6536\n",
      "Number of 1s : 19864, Number of 0s : 19864\n",
      "Number of 1s : 50331, Number of 0s : 50331\n",
      "Number of 1s : 6966, Number of 0s : 6966\n",
      "Number of 1s : 61030, Number of 0s : 61031\n",
      "Number of 1s : 36448, Number of 0s : 36448\n",
      "Number of 1s : 61030, Number of 0s : 61031\n",
      "Number of 1s : 16526, Number of 0s : 16526\n",
      "Number of 1s : 46796, Number of 0s : 46796\n"
     ]
    }
   ],
   "source": [
    "from pathlib import Path\n",
    "import os\n",
    "import pandas as pd\n",
    "\n",
    "path = Path('./2_os_by_language/datasets')\n",
    "\n",
    "for file in os.listdir(path) :\n",
    "    df = pd.read_csv(path / file, sep='\\t', encoding='utf-8')\n",
    "    print(f\"Number of 1s : {df[df['score']==1].shape[0]}, Number of 0s : {df[df['score']==0].shape[0]}\")"
   ]
  },
  {
   "cell_type": "markdown",
   "metadata": {},
   "source": [
    "# Uploading datasets"
   ]
  },
  {
   "cell_type": "code",
   "execution_count": null,
   "metadata": {},
   "outputs": [
    {
     "name": "stderr",
     "output_type": "stream",
     "text": [
      "Creating parquet from Arrow format: 100%|██████████| 2231/2231 [00:02<00:00, 811.75ba/s]\n",
      "Creating parquet from Arrow format: 100%|██████████| 2231/2231 [00:02<00:00, 881.13ba/s]\n",
      "Uploading the dataset shards: 100%|██████████| 2/2 [00:43<00:00, 21.88s/it]\n"
     ]
    }
   ],
   "source": [
    "from pathlib import Path\n",
    "Processor.data_upload(Path('./2_os_by_language/datasets'))"
   ]
  },
  {
   "cell_type": "code",
   "execution_count": null,
   "metadata": {},
   "outputs": [],
   "source": []
  }
 ],
 "metadata": {
  "kernelspec": {
   "display_name": "Python 3",
   "language": "python",
   "name": "python3"
  },
  "language_info": {
   "codemirror_mode": {
    "name": "ipython",
    "version": 3
   },
   "file_extension": ".py",
   "mimetype": "text/x-python",
   "name": "python",
   "nbconvert_exporter": "python",
   "pygments_lexer": "ipython3",
   "version": "3.12.5"
  }
 },
 "nbformat": 4,
 "nbformat_minor": 2
}

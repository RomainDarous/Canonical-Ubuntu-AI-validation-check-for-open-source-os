{
 "cells": [
  {
   "cell_type": "markdown",
   "metadata": {},
   "source": [
    "# Translation Error Detection - Data processing\n",
    "Romain Darous. <br><br>\n",
    "Here will be conducted the processing part of the project, which consists in making the data ready for fine tuning the model."
   ]
  },
  {
   "cell_type": "markdown",
   "metadata": {},
   "source": [
    "## Importing the relevant libraries"
   ]
  },
  {
   "cell_type": "code",
   "execution_count": null,
   "metadata": {},
   "outputs": [],
   "source": [
    "# Personal libraries\n",
    "import importlib\n",
    "import processor\n",
    "import corruptor\n",
    "from processor import Processor\n",
    "from corruptor import Corruptor"
   ]
  },
  {
   "cell_type": "code",
   "execution_count": null,
   "metadata": {},
   "outputs": [],
   "source": [
    "importlib.reload(processor)\n",
    "importlib.reload(corruptor)\n",
    "from processor import Processor\n",
    "from corruptor import Corruptor\n",
    "processor = Processor()\n"
   ]
  },
  {
   "cell_type": "markdown",
   "metadata": {},
   "source": [
    "## Data cleaning\n",
    "Perform data cleaning of the collected os translations."
   ]
  },
  {
   "cell_type": "code",
   "execution_count": null,
   "metadata": {},
   "outputs": [],
   "source": [
    "processor.data_cleaning(update_only=False)"
   ]
  },
  {
   "cell_type": "markdown",
   "metadata": {},
   "source": [
    "## Data Merging\n",
    "Merging data files to get one .csv file per language. It is important to perform databalance afterwards."
   ]
  },
  {
   "cell_type": "code",
   "execution_count": null,
   "metadata": {},
   "outputs": [],
   "source": [
    "processor.data_merging()"
   ]
  },
  {
   "cell_type": "markdown",
   "metadata": {},
   "source": [
    "## Data quality check\n",
    "Manual preliminary translation quality check. It makes sure that most of the translations of the dataset are correct."
   ]
  },
  {
   "cell_type": "code",
   "execution_count": null,
   "metadata": {},
   "outputs": [],
   "source": [
    "processor.reset_translation_metadata()"
   ]
  },
  {
   "cell_type": "code",
   "execution_count": null,
   "metadata": {},
   "outputs": [],
   "source": [
    "processor.preliminary_translation_quality_check()"
   ]
  },
  {
   "cell_type": "markdown",
   "metadata": {},
   "source": [
    "# Data corruption\n",
    "Adding hateful samples for fine-tuning on a labelled-balanced dataset"
   ]
  },
  {
   "cell_type": "code",
   "execution_count": 18,
   "metadata": {},
   "outputs": [
    {
     "name": "stdout",
     "output_type": "stream",
     "text": [
      "                                            sentence feature_1 feature_2\n",
      "0  @corinnamilborn Liebe Corinna, wir würden dich...     OTHER     OTHER\n",
      "1  @Martin28a Sie haben ja auch Recht. Unser Twee...     OTHER     OTHER\n",
      "2  @ahrens_theo fröhlicher gruß aus der schönsten...     OTHER     OTHER\n",
      "3  @dushanwegner Amis hätten alles und jeden gewä...     OTHER     OTHER\n",
      "4  @spdde kein verläßlicher Verhandlungspartner. ...   OFFENSE    INSULT\n"
     ]
    }
   ],
   "source": [
    "corruptor = Corruptor()\n",
    "corruptor.load_german_datasets()\n",
    "#corruptor.load_all_multilingual_datasets()\n",
    "#corruptor.data_corruption()"
   ]
  },
  {
   "cell_type": "code",
   "execution_count": null,
   "metadata": {},
   "outputs": [],
   "source": []
  }
 ],
 "metadata": {
  "kernelspec": {
   "display_name": "Python 3",
   "language": "python",
   "name": "python3"
  },
  "language_info": {
   "codemirror_mode": {
    "name": "ipython",
    "version": 3
   },
   "file_extension": ".py",
   "mimetype": "text/x-python",
   "name": "python",
   "nbconvert_exporter": "python",
   "pygments_lexer": "ipython3",
   "version": "3.12.5"
  }
 },
 "nbformat": 4,
 "nbformat_minor": 2
}
